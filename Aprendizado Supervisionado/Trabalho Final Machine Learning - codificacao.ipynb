{
 "cells": [
  {
   "cell_type": "markdown",
   "metadata": {
    "id": "tQyoFrl_-_2l"
   },
   "source": [
    "**Trabalho Prático Machine Learning**\n",
    "\n",
    "**LUIZA CASTELAR RODRIGUES PEREIRA**\n"
   ]
  },
  {
   "cell_type": "markdown",
   "metadata": {
    "id": "P_SqapTVGTZ7"
   },
   "source": [
    "Importação e leitura dos dados"
   ]
  },
  {
   "cell_type": "code",
   "execution_count": null,
   "metadata": {
    "id": "ogKujr1j-5iM"
   },
   "outputs": [],
   "source": [
    "# bibliotecas para análise\n",
    "import numpy as np\n",
    "import pandas as pd\n",
    "import matplotlib.pyplot as plt\n",
    "from collections import Counter\n",
    "import plotly.express as px\n",
    "\n",
    "#bibliotecas para Naive Bayes e Random Forest\n",
    "from sklearn.model_selection import train_test_split\n",
    "from sklearn.naive_bayes import GaussianNB \n",
    "from sklearn.metrics import confusion_matrix, classification_report\n",
    "from sklearn.feature_extraction import DictVectorizer\n",
    "from sklearn.preprocessing import LabelEncoder\n",
    "\n",
    "from sklearn.ensemble import RandomForestClassifier"
   ]
  },
  {
   "cell_type": "code",
   "execution_count": null,
   "metadata": {
    "colab": {
     "base_uri": "https://localhost:8080/",
     "height": 473
    },
    "id": "mFqzNVOuxZoJ",
    "outputId": "08ea8277-c016-4160-d4ca-b0294053a8ad",
    "scrolled": true
   },
   "outputs": [],
   "source": [
    "download_url = 'https://drive.google.com/uc?export=download&id='\n",
    "url_drive_file = 'https://docs.google.com/spreadsheets/d/1eCsMmmW2m7RLLfR-9uBOPEiH3N6d3nG4/edit?usp=sharing&ouid=100851951330604893448&rtpof=true&sd=true'\n",
    "download_path = download_url + url_drive_file.split('/')[-2]\n",
    "\n",
    "eleicao = pd.read_excel(download_path, encoding='utf-8')\n",
    "\n",
    "eleicao.head()"
   ]
  },
  {
   "cell_type": "markdown",
   "metadata": {
    "id": "jAtGmFx625rL"
   },
   "source": [
    "<b>Descrição dos dados</b>\n",
    "\n",
    "A tabela possui 81.785 registros ao todo e 63 colunas. \n",
    "\n",
    "A análise real de nulos será feita após a remoção das colunas que não usarei, mas já da para ver que as colunas \"NM_COLIGACAO\", \"DT_NASCIMENTO\" e \"NR_IDADE_DATA_POSSE\" possuem registros nulos.\n"
   ]
  },
  {
   "cell_type": "code",
   "execution_count": null,
   "metadata": {
    "colab": {
     "base_uri": "https://localhost:8080/"
    },
    "id": "oB4uwsEM3V0n",
    "outputId": "cb18f395-f15d-45ea-b0c0-4499a3acf543"
   },
   "outputs": [],
   "source": [
    "eleicao.info()"
   ]
  },
  {
   "cell_type": "markdown",
   "metadata": {
    "id": "IQm8WcYXwM9K"
   },
   "source": [
    "Verificando algumas colunas individualmente que suspeito terem valores únicos, para ver se os valores encontrados em colunas que em primeiro momento não vejo utilidade, tenham de fato um valor interessante para ser analisado ou descartado:"
   ]
  },
  {
   "cell_type": "code",
   "execution_count": null,
   "metadata": {
    "colab": {
     "base_uri": "https://localhost:8080/"
    },
    "id": "YCxqpfVDwOpb",
    "outputId": "43301e11-25c6-4567-d6e2-941e972d2fd8"
   },
   "outputs": [],
   "source": [
    "eleicao['DT_GERACAO'].value_counts()"
   ]
  },
  {
   "cell_type": "code",
   "execution_count": null,
   "metadata": {
    "colab": {
     "base_uri": "https://localhost:8080/"
    },
    "id": "NXXL9LInw7ZG",
    "outputId": "d0e9d894-df1e-4125-b041-83049fb6adfe"
   },
   "outputs": [],
   "source": [
    "eleicao['HH_GERACAO'].value_counts()"
   ]
  },
  {
   "cell_type": "code",
   "execution_count": null,
   "metadata": {
    "colab": {
     "base_uri": "https://localhost:8080/"
    },
    "id": "g2u6wdj9xAWy",
    "outputId": "8af48cef-91da-4e91-baf0-72838cb2504b"
   },
   "outputs": [],
   "source": [
    "eleicao['ANO_ELEICAO'].value_counts()"
   ]
  },
  {
   "cell_type": "code",
   "execution_count": null,
   "metadata": {
    "colab": {
     "base_uri": "https://localhost:8080/"
    },
    "id": "5lTiNT8G0y7p",
    "outputId": "0fc917da-d00c-4283-d018-179a8c2c9ed6"
   },
   "outputs": [],
   "source": [
    "eleicao['CD_TIPO_ELEICAO'].value_counts()"
   ]
  },
  {
   "cell_type": "code",
   "execution_count": null,
   "metadata": {
    "colab": {
     "base_uri": "https://localhost:8080/"
    },
    "id": "b7KrLLcz06dr",
    "outputId": "b12edbe1-54cc-4bc0-a30c-2d53a27f3462"
   },
   "outputs": [],
   "source": [
    "eleicao['NM_TIPO_ELEICAO'].value_counts()"
   ]
  },
  {
   "cell_type": "code",
   "execution_count": null,
   "metadata": {
    "colab": {
     "base_uri": "https://localhost:8080/"
    },
    "id": "LvlGqvuP1Ajj",
    "outputId": "058b110c-778a-4330-aeee-114ecc30738c"
   },
   "outputs": [],
   "source": [
    "eleicao['NR_TURNO'].value_counts()"
   ]
  },
  {
   "cell_type": "code",
   "execution_count": null,
   "metadata": {
    "colab": {
     "base_uri": "https://localhost:8080/"
    },
    "id": "rbyRvmMO6DO3",
    "outputId": "6456e8c6-8fed-4686-c6a4-dc3b66b76540"
   },
   "outputs": [],
   "source": [
    "eleicao['CD_ELEICAO'].value_counts()"
   ]
  },
  {
   "cell_type": "code",
   "execution_count": null,
   "metadata": {
    "colab": {
     "base_uri": "https://localhost:8080/"
    },
    "id": "5XZRt1rA6JJ9",
    "outputId": "7107d04c-6293-4025-f39e-1b730d029099"
   },
   "outputs": [],
   "source": [
    "eleicao['DS_ELEICAO'].value_counts()"
   ]
  },
  {
   "cell_type": "code",
   "execution_count": null,
   "metadata": {
    "colab": {
     "base_uri": "https://localhost:8080/"
    },
    "id": "DItKRFHW6NwE",
    "outputId": "affb0759-33ce-407d-fd51-a4585d7c943a"
   },
   "outputs": [],
   "source": [
    "Counter(eleicao['DT_ELEICAO'])"
   ]
  },
  {
   "cell_type": "code",
   "execution_count": null,
   "metadata": {
    "colab": {
     "base_uri": "https://localhost:8080/"
    },
    "id": "k4nmRbxz6kNT",
    "outputId": "aa8aa91e-6cf2-4147-df2d-8faefc01feb6"
   },
   "outputs": [],
   "source": [
    "Counter(eleicao['TP_ABRANGENCIA'])"
   ]
  },
  {
   "cell_type": "code",
   "execution_count": null,
   "metadata": {
    "colab": {
     "base_uri": "https://localhost:8080/"
    },
    "id": "Lr5_pVScPljd",
    "outputId": "9d8b1872-9b15-4515-c46a-d8e7dbdeef56"
   },
   "outputs": [],
   "source": [
    "Counter(eleicao['SG_UF'])"
   ]
  },
  {
   "cell_type": "code",
   "execution_count": null,
   "metadata": {
    "colab": {
     "base_uri": "https://localhost:8080/"
    },
    "id": "jZgsuyUuRfaQ",
    "outputId": "0425f7ee-7887-49fa-e81e-cef70a3fc993"
   },
   "outputs": [],
   "source": [
    "Counter(eleicao['CD_CARGO'])"
   ]
  },
  {
   "cell_type": "code",
   "execution_count": null,
   "metadata": {
    "colab": {
     "base_uri": "https://localhost:8080/"
    },
    "id": "GC2c4UezRfSx",
    "outputId": "8b829e47-366e-4b92-c021-ae467816090e"
   },
   "outputs": [],
   "source": [
    "Counter(eleicao['DS_CARGO'])"
   ]
  },
  {
   "cell_type": "code",
   "execution_count": null,
   "metadata": {
    "colab": {
     "base_uri": "https://localhost:8080/"
    },
    "id": "gkguPc-gOcwt",
    "outputId": "de9b6691-19d1-47bf-ba94-37d74c55780b"
   },
   "outputs": [],
   "source": [
    "Counter(eleicao['CD_SITUACAO_CANDIDATURA'])"
   ]
  },
  {
   "cell_type": "code",
   "execution_count": null,
   "metadata": {
    "colab": {
     "base_uri": "https://localhost:8080/"
    },
    "id": "8fBAnR7COoXl",
    "outputId": "b87b4047-03ff-4533-a176-6bfe9a10f1dc"
   },
   "outputs": [],
   "source": [
    "Counter(eleicao['DS_SITUACAO_CANDIDATURA'])"
   ]
  },
  {
   "cell_type": "code",
   "execution_count": null,
   "metadata": {
    "colab": {
     "base_uri": "https://localhost:8080/"
    },
    "id": "lFlR0_KfSJWq",
    "outputId": "685e12cd-4118-4828-9e89-cf34dbfb4033"
   },
   "outputs": [],
   "source": [
    "Counter(eleicao['CD_DETALHE_SITUACAO_CAND'])"
   ]
  },
  {
   "cell_type": "code",
   "execution_count": null,
   "metadata": {
    "colab": {
     "base_uri": "https://localhost:8080/"
    },
    "id": "Ecl6In8ISJT4",
    "outputId": "71bf0257-0791-4dd9-82dc-a6524b56f7a4"
   },
   "outputs": [],
   "source": [
    "eleicao['DS_DETALHE_SITUACAO_CAND'].value_counts()"
   ]
  },
  {
   "cell_type": "code",
   "execution_count": null,
   "metadata": {
    "colab": {
     "base_uri": "https://localhost:8080/"
    },
    "id": "K6A8yU3WbPnj",
    "outputId": "0d9ac8a0-e3ec-490c-9f79-69cf95802f75"
   },
   "outputs": [],
   "source": [
    "Counter(eleicao['CD_GRAU_INSTRUCAO'])"
   ]
  },
  {
   "cell_type": "code",
   "execution_count": null,
   "metadata": {
    "colab": {
     "base_uri": "https://localhost:8080/"
    },
    "id": "87dVV4jEoXBF",
    "outputId": "4fec04fd-2233-4c4e-a9f9-69da5d412308"
   },
   "outputs": [],
   "source": [
    "eleicao['DS_GRAU_INSTRUCAO'].value_counts()"
   ]
  },
  {
   "cell_type": "code",
   "execution_count": null,
   "metadata": {
    "colab": {
     "base_uri": "https://localhost:8080/"
    },
    "id": "4gZHH1Tsp_9n",
    "outputId": "1a3bb1fc-e43e-4ccc-ece9-73fcce133c3b"
   },
   "outputs": [],
   "source": [
    "Counter(eleicao['CD_ESTADO_CIVIL'])"
   ]
  },
  {
   "cell_type": "code",
   "execution_count": null,
   "metadata": {
    "colab": {
     "base_uri": "https://localhost:8080/"
    },
    "id": "xYGivmkEqD8M",
    "outputId": "88626e77-a281-43e9-d4de-c79bf18ac8c2"
   },
   "outputs": [],
   "source": [
    "eleicao['DS_ESTADO_CIVIL'].value_counts()"
   ]
  },
  {
   "cell_type": "code",
   "execution_count": null,
   "metadata": {
    "colab": {
     "base_uri": "https://localhost:8080/"
    },
    "id": "S9X0hM2cbPlV",
    "outputId": "67f5ab48-3685-42ac-f5b5-5c886eb61fb0"
   },
   "outputs": [],
   "source": [
    "Counter(eleicao['CD_GENERO'])"
   ]
  },
  {
   "cell_type": "code",
   "execution_count": null,
   "metadata": {
    "colab": {
     "base_uri": "https://localhost:8080/"
    },
    "id": "7QPoDyPImzNB",
    "outputId": "729403db-46a1-4f6e-b593-1143fccee958"
   },
   "outputs": [],
   "source": [
    "eleicao['DS_GENERO'].value_counts()"
   ]
  },
  {
   "cell_type": "code",
   "execution_count": null,
   "metadata": {
    "colab": {
     "base_uri": "https://localhost:8080/"
    },
    "id": "2uYPTojLbPgX",
    "outputId": "70668355-b348-4e28-db66-1e234b8c4e26"
   },
   "outputs": [],
   "source": [
    "Counter(eleicao['CD_MUNICIPIO_NASCIMENTO'])"
   ]
  },
  {
   "cell_type": "code",
   "execution_count": null,
   "metadata": {
    "colab": {
     "base_uri": "https://localhost:8080/"
    },
    "id": "ks30YQSTbPZb",
    "outputId": "accbe892-01f1-4d66-fa73-a62bc13a1d38"
   },
   "outputs": [],
   "source": [
    "Counter(eleicao['CD_NACIONALIDADE'])"
   ]
  },
  {
   "cell_type": "code",
   "execution_count": null,
   "metadata": {
    "colab": {
     "base_uri": "https://localhost:8080/"
    },
    "id": "gBGGz0OdbaeP",
    "outputId": "8e764a31-769b-443a-b750-4ea8c8c2f7a8"
   },
   "outputs": [],
   "source": [
    "eleicao['DS_NACIONALIDADE'].value_counts()"
   ]
  },
  {
   "cell_type": "code",
   "execution_count": null,
   "metadata": {
    "colab": {
     "base_uri": "https://localhost:8080/"
    },
    "id": "y0rQaCf1SJLP",
    "outputId": "4d127133-e23d-41d1-f0fa-9d05051cd7ce"
   },
   "outputs": [],
   "source": [
    "eleicao['ST_CANDIDATO_INSERIDO_URNA'].value_counts()"
   ]
  },
  {
   "cell_type": "code",
   "execution_count": null,
   "metadata": {
    "colab": {
     "base_uri": "https://localhost:8080/"
    },
    "id": "N5McO-5Zs4VI",
    "outputId": "38529dfc-0efb-4314-81d3-acee8792a40a"
   },
   "outputs": [],
   "source": [
    "Counter(eleicao['CD_COR_RACA'])"
   ]
  },
  {
   "cell_type": "code",
   "execution_count": null,
   "metadata": {
    "colab": {
     "base_uri": "https://localhost:8080/"
    },
    "id": "1ks_7Ptas7XI",
    "outputId": "ae13b2ea-93f2-49d8-8a28-db447b6b31b4"
   },
   "outputs": [],
   "source": [
    "eleicao['DS_COR_RACA'].value_counts()"
   ]
  },
  {
   "cell_type": "code",
   "execution_count": null,
   "metadata": {
    "colab": {
     "base_uri": "https://localhost:8080/"
    },
    "id": "uFuvzhrWxDjV",
    "outputId": "801fd129-3ff4-49d9-bf94-57067435425c"
   },
   "outputs": [],
   "source": [
    "eleicao['ST_REELEICAO'].value_counts()"
   ]
  },
  {
   "cell_type": "code",
   "execution_count": null,
   "metadata": {
    "colab": {
     "base_uri": "https://localhost:8080/"
    },
    "id": "cZ8A5M-9Fqdo",
    "outputId": "569a8fbf-a11e-4b5d-ae23-b22666965e0a"
   },
   "outputs": [],
   "source": [
    "Counter(eleicao['NR_PROTOCOLO_CANDIDATURA'])"
   ]
  },
  {
   "cell_type": "code",
   "execution_count": null,
   "metadata": {
    "colab": {
     "base_uri": "https://localhost:8080/"
    },
    "id": "5GDCuWMRJ6z0",
    "outputId": "726dda8a-fa69-417d-e628-aa8a3554599e"
   },
   "outputs": [],
   "source": [
    "Counter(eleicao['CD_SIT_TOT_TURNO'])"
   ]
  },
  {
   "cell_type": "code",
   "execution_count": null,
   "metadata": {
    "colab": {
     "base_uri": "https://localhost:8080/"
    },
    "id": "x99Nh5jaJ_No",
    "outputId": "8713d734-7e22-4eaa-a821-3b6e97ecc044"
   },
   "outputs": [],
   "source": [
    "eleicao['DS_SIT_TOT_TURNO'].value_counts()"
   ]
  },
  {
   "cell_type": "markdown",
   "metadata": {
    "id": "harvsOrNhejh"
   },
   "source": [
    "Após análise anterior dos valores de algumas colunas, seleciono as colunas que julgo necessárias para a solução do problema:"
   ]
  },
  {
   "cell_type": "code",
   "execution_count": null,
   "metadata": {
    "id": "v_MK6qQqxGQF"
   },
   "outputs": [],
   "source": [
    "eleicao1 = pd.DataFrame()\n",
    "\n",
    "#colunas auxiliares para remover/consertar algum ou vários registros/candidatos\n",
    "eleicao1['ST_CANDIDATO_INSERIDO_URNA'] = eleicao['ST_CANDIDATO_INSERIDO_URNA']\n",
    "\n",
    "eleicao1['DS_DETALHE_SITUACAO_CAND'] = eleicao['DS_DETALHE_SITUACAO_CAND'] \n",
    "\n",
    "eleicao1['DS_SITUACAO_CANDIDATURA'] = eleicao['DS_SITUACAO_CANDIDATURA'] \n",
    "\n",
    "eleicao1['SQ_CANDIDATO'] = eleicao['SQ_CANDIDATO'] \n",
    "\n",
    "eleicao1['NR_TURNO'] = eleicao['NR_TURNO'] \n",
    "\n",
    "#colunas para análise extra (entender a base)\n",
    "eleicao1['NM_CANDIDATO'] = eleicao['NM_CANDIDATO']\n",
    "\n",
    "eleicao1['TP_AGREMIACAO'] = eleicao['TP_AGREMIACAO'] \n",
    "\n",
    "eleicao1['DS_NACIONALIDADE'] = eleicao['DS_NACIONALIDADE'] \n",
    "\n",
    "eleicao1['NR_IDADE_DATA_POSSE'] = eleicao['NR_IDADE_DATA_POSSE'] \n",
    "\n",
    "eleicao1['NM_SOCIAL_CANDIDATO'] = eleicao['NM_SOCIAL_CANDIDATO'] \n",
    "\n",
    "#colunas que quero analisar\n",
    "eleicao1['DS_GENERO'] = eleicao['DS_GENERO']  \n",
    "\n",
    "eleicao1['DS_ESTADO_CIVIL'] = eleicao['DS_ESTADO_CIVIL'] \n",
    "\n",
    "eleicao1['DS_GRAU_INSTRUCAO'] = eleicao['DS_GRAU_INSTRUCAO'] \n",
    "\n",
    "eleicao1['DS_COR_RACA'] = eleicao['DS_COR_RACA'] \n",
    "\n",
    "eleicao1['DS_CARGO'] = eleicao['DS_CARGO'] \n",
    "\n",
    "# label\n",
    "eleicao1['DS_SIT_TOT_TURNO'] = eleicao['DS_SIT_TOT_TURNO']"
   ]
  },
  {
   "cell_type": "markdown",
   "metadata": {
    "id": "esvQ6suWE7_s"
   },
   "source": [
    "Saio de um dataframe que tinha 63 colunas para um que tem 16."
   ]
  },
  {
   "cell_type": "code",
   "execution_count": null,
   "metadata": {
    "colab": {
     "base_uri": "https://localhost:8080/"
    },
    "id": "pH6H2RhfFAeV",
    "outputId": "5cc80f76-7f9b-4705-a434-a73a4872533d"
   },
   "outputs": [],
   "source": [
    "eleicao1.shape"
   ]
  },
  {
   "cell_type": "markdown",
   "metadata": {
    "id": "G8DAeDD2GqUJ"
   },
   "source": [
    "Dataframe final:"
   ]
  },
  {
   "cell_type": "code",
   "execution_count": null,
   "metadata": {
    "colab": {
     "base_uri": "https://localhost:8080/",
     "height": 0
    },
    "id": "M2nwLi8kyhhF",
    "outputId": "47aeb7e1-be67-40c2-f6b8-da528305a38e"
   },
   "outputs": [],
   "source": [
    "eleicao1.head()"
   ]
  },
  {
   "cell_type": "markdown",
   "metadata": {
    "id": "DyBE6_u7SEwG"
   },
   "source": [
    "Análisando os motivos que levaram os candidatos a não serem inseridos na urna:"
   ]
  },
  {
   "cell_type": "code",
   "execution_count": null,
   "metadata": {
    "colab": {
     "base_uri": "https://localhost:8080/",
     "height": 0
    },
    "id": "5jbx-rYZTljz",
    "outputId": "e084d2d3-5d2b-459b-8831-c7aa6008c67e"
   },
   "outputs": [],
   "source": [
    "qtdNaoInseridos = np.where(eleicao1['ST_CANDIDATO_INSERIDO_URNA'] != 'SIM')\n",
    "\n",
    "porqueNaoInseridos = eleicao1.loc[qtdNaoInseridos]['DS_DETALHE_SITUACAO_CAND'].unique()\n",
    "\n",
    "print \"Quantidade de candidatos não inseridos na urna: \", len(qtdNaoInseridos[0])\n",
    "\n",
    "print\"Motivos da nao inserção:\", porqueNaoInseridos\n",
    "\n",
    "print \"\\nAnálise gráfica de porcentagem sobre os NÃO aceitos:\"\n",
    "\n",
    "px.pie(eleicao.loc[qtdNaoInseridos], names='DS_DETALHE_SITUACAO_CAND')"
   ]
  },
  {
   "cell_type": "markdown",
   "metadata": {
    "id": "g-3Qz1VfXMXq"
   },
   "source": [
    "Exclusão dos candidatos que não foram inseridos na urna:"
   ]
  },
  {
   "cell_type": "code",
   "execution_count": null,
   "metadata": {
    "id": "EeYkJsQpWw3C"
   },
   "outputs": [],
   "source": [
    "eleicao2 = eleicao1.loc[np.where(eleicao1['ST_CANDIDATO_INSERIDO_URNA'] == 'SIM')]"
   ]
  },
  {
   "cell_type": "markdown",
   "metadata": {
    "id": "t5Rjs7WtwDbF"
   },
   "source": [
    "Verificando quantos candidatos ainda estão com o valor \"Inapto\" e por quais motivos desse valor:"
   ]
  },
  {
   "cell_type": "code",
   "execution_count": null,
   "metadata": {
    "colab": {
     "base_uri": "https://localhost:8080/",
     "height": 0
    },
    "id": "kucH66m0bay0",
    "outputId": "65fb06d3-0304-4126-b45c-0cfb1be20748"
   },
   "outputs": [],
   "source": [
    "print \"Quantos inaptos ainda existem na base:\", len(np.where(eleicao2['DS_SITUACAO_CANDIDATURA'] == 'INAPTO')[0]),'\\n'\n",
    "\n",
    "inaptos = eleicao2.iloc[np.where(eleicao2['DS_SITUACAO_CANDIDATURA'] == 'INAPTO')]\n",
    "\n",
    "inaptos.head()"
   ]
  },
  {
   "cell_type": "markdown",
   "metadata": {
    "id": "MO94sx7HrHZa"
   },
   "source": [
    "Na base tem dados de candidatos duplicados devido à 2º turno. \n",
    "\n",
    "Removemos os registros relativos a esses candidatos, deixando os registros de 2º turno aonde tem a decisão final de eleição."
   ]
  },
  {
   "cell_type": "code",
   "execution_count": null,
   "metadata": {
    "colab": {
     "base_uri": "https://localhost:8080/",
     "height": 0
    },
    "id": "sZRA35LrhRC5",
    "outputId": "4e32d7a3-7e89-425c-b33c-e6901a95ff7a"
   },
   "outputs": [],
   "source": [
    "eleicao3.select_dtypes(include=['object']).describe()"
   ]
  },
  {
   "cell_type": "code",
   "execution_count": null,
   "metadata": {
    "colab": {
     "base_uri": "https://localhost:8080/"
    },
    "id": "X3Nf0zldYQwu",
    "outputId": "31f52343-cf14-49cb-eaf4-33ca99d117b4"
   },
   "outputs": [],
   "source": [
    "condicao = np.where(eleicao2.duplicated(subset=['SQ_CANDIDATO'], keep=False) == True)\n",
    "\n",
    "duplicados = (eleicao2.iloc[condicao]).sort_values(by=['NM_CANDIDATO'])\n",
    "\n",
    "print \"Quantos duplicados tem a base em função de 2º turno: \", len(duplicados)\n",
    "\n",
    "duplicadosExcluir = duplicados.iloc[np.where(duplicados['NR_TURNO'] == 1)]\n",
    "\n",
    "indices = list(set(eleicao2.index) - set(duplicadosExcluir.index))\n",
    "\n",
    "eleicao3 = eleicao2.loc[indices]"
   ]
  },
  {
   "cell_type": "markdown",
   "metadata": {
    "id": "VCDsNHW-ObdW"
   },
   "source": [
    "**Tratando o label**\n",
    "*   Como temos somente 2 registros com nulo, descartaremos eles.\n",
    "*   Agruparemos todos os valores com \"eleito\" na composição do nome para somente \"eleito\"\n",
    "\n"
   ]
  },
  {
   "cell_type": "code",
   "execution_count": null,
   "metadata": {
    "colab": {
     "base_uri": "https://localhost:8080/"
    },
    "id": "KzXZft8EOC0H",
    "outputId": "44c64d6c-3b8e-48f0-cd02-8bf646b76b6e"
   },
   "outputs": [],
   "source": [
    "eleicao3['DS_SIT_TOT_TURNO'].value_counts()"
   ]
  },
  {
   "cell_type": "code",
   "execution_count": null,
   "metadata": {
    "id": "PGtM-XgbVU0h"
   },
   "outputs": [],
   "source": [
    "titulo = eleicao3['DS_SIT_TOT_TURNO']\n",
    "\n",
    "eleito = []\n",
    "\n",
    "for el in titulo:\n",
    "  if (el != 'NÃO ELEITO'.decode('utf-8')) and ('ELEITO' in el):\n",
    "    eleito.append('ELEITO')\n",
    "  elif el == '#NULO#':\n",
    "    eleito.append(None)\n",
    "  else:\n",
    "    eleito.append(el)\n",
    "\n",
    "eleicao3['DS_SIT_TOT_TURNO'] = eleito"
   ]
  },
  {
   "cell_type": "code",
   "execution_count": null,
   "metadata": {
    "id": "T175XmB-fpWi"
   },
   "outputs": [],
   "source": [
    "eleicao3.dropna(subset=['DS_SIT_TOT_TURNO'], inplace=True)"
   ]
  },
  {
   "cell_type": "code",
   "execution_count": null,
   "metadata": {
    "colab": {
     "base_uri": "https://localhost:8080/"
    },
    "id": "IbksS8Jpfwiy",
    "outputId": "0e6f3e08-bc0e-41c0-8558-c341e829fb90"
   },
   "outputs": [],
   "source": [
    "Counter(eleicao3['DS_SIT_TOT_TURNO'])"
   ]
  },
  {
   "cell_type": "markdown",
   "metadata": {
    "id": "9avf1Oj3PHsj"
   },
   "source": [
    "**Tratando outros atributos**\n"
   ]
  },
  {
   "cell_type": "code",
   "execution_count": null,
   "metadata": {
    "id": "r8WpIwUoYGSN"
   },
   "outputs": [],
   "source": [
    "def tratarNaoDivulgavel(coluna):\n",
    "  print 'Quantos \"NÃO DIVULGÁVEL\" temos na coluna: ', Counter(eleicao3[coluna])\n",
    "\n",
    "  moda = eleicao3.loc[:,coluna].mode()[0]\n",
    "\n",
    "  print '\\nPara não modificar muito o valor, colocarei a moda: ', moda, '\\n'\n",
    "\n",
    "  eleicao3[coluna] = [moda if ('NÃO DIVULGÁVEL' in el) else el for el in eleicao3[coluna]]\n"
   ]
  },
  {
   "cell_type": "markdown",
   "metadata": {
    "id": "KdbyPg5FZqv3"
   },
   "source": [
    "Genero:"
   ]
  },
  {
   "cell_type": "code",
   "execution_count": null,
   "metadata": {
    "colab": {
     "base_uri": "https://localhost:8080/"
    },
    "id": "VvD667vhPVrP",
    "outputId": "076ffe0e-d40f-4bf2-bb2f-bb8697d719bc"
   },
   "outputs": [],
   "source": [
    "tratarNaoDivulgavel('DS_GENERO')\n",
    "\n",
    "eleicao3['DS_GENERO'].values_count()"
   ]
  },
  {
   "cell_type": "markdown",
   "metadata": {
    "id": "6hYSjFNJXoEQ"
   },
   "source": [
    "Cor/raça:"
   ]
  },
  {
   "cell_type": "code",
   "execution_count": null,
   "metadata": {
    "colab": {
     "base_uri": "https://localhost:8080/"
    },
    "id": "gLcKkKwOXprX",
    "outputId": "d1c9a38e-a835-4144-a7d4-885a9e63eaec"
   },
   "outputs": [],
   "source": [
    "tratarNaoDivulgavel('DS_COR_RACA')\n",
    "\n",
    "Counter(eleicao3['DS_COR_RACA'])"
   ]
  },
  {
   "cell_type": "markdown",
   "metadata": {
    "id": "ISJKiXjfZwYx"
   },
   "source": [
    "Grau de instrução:"
   ]
  },
  {
   "cell_type": "code",
   "execution_count": null,
   "metadata": {
    "colab": {
     "base_uri": "https://localhost:8080/"
    },
    "id": "uLcET3HOZyKm",
    "outputId": "dddd0015-c04e-43f7-d03b-758204282650"
   },
   "outputs": [],
   "source": [
    "tratarNaoDivulgavel('DS_GRAU_INSTRUCAO')\n",
    "\n",
    "Counter(eleicao3['DS_GRAU_INSTRUCAO'])"
   ]
  },
  {
   "cell_type": "markdown",
   "metadata": {
    "id": "1cpyhp2Lawre"
   },
   "source": [
    "Estado civil:"
   ]
  },
  {
   "cell_type": "code",
   "execution_count": null,
   "metadata": {
    "colab": {
     "base_uri": "https://localhost:8080/"
    },
    "id": "3jeu0dT3a0M_",
    "outputId": "0d5a3012-61ce-4492-cd41-dbf795db1f26"
   },
   "outputs": [],
   "source": [
    "tratarNaoDivulgavel('DS_ESTADO_CIVIL')\n",
    "\n",
    "Counter(eleicao3['DS_ESTADO_CIVIL'])"
   ]
  },
  {
   "cell_type": "markdown",
   "metadata": {
    "id": "FkbkOHMHazOi"
   },
   "source": [
    "Nacionalidade:"
   ]
  },
  {
   "cell_type": "code",
   "execution_count": null,
   "metadata": {
    "colab": {
     "base_uri": "https://localhost:8080/"
    },
    "id": "lVJnkIvJa08R",
    "outputId": "fbcefbde-4465-4f85-b324-80ab3f72a8b3"
   },
   "outputs": [],
   "source": [
    "tratarNaoDivulgavel('DS_NACIONALIDADE')\n",
    "\n",
    "Counter(eleicao3['DS_NACIONALIDADE'])"
   ]
  },
  {
   "cell_type": "markdown",
   "metadata": {
    "id": "ouy2lznKp_Id"
   },
   "source": [
    "**Análises gráficas em geral**\n",
    "\n",
    "Com intuito de entender mais a distribuição das caracteristicas dos candidatos"
   ]
  },
  {
   "cell_type": "code",
   "execution_count": null,
   "metadata": {
    "colab": {
     "base_uri": "https://localhost:8080/",
     "height": 0
    },
    "id": "tpMOIFezp6fV",
    "outputId": "34d0995e-1f98-444e-b131-b654a6eadb70"
   },
   "outputs": [],
   "source": [
    "px.pie(eleicao3, names='TP_AGREMIACAO')"
   ]
  },
  {
   "cell_type": "code",
   "execution_count": null,
   "metadata": {
    "colab": {
     "base_uri": "https://localhost:8080/",
     "height": 0
    },
    "id": "1OBrubFJp6Zt",
    "outputId": "15ee3aee-c07f-4514-d5cc-6625ea25ff73"
   },
   "outputs": [],
   "source": [
    "px.pie(eleicao3, names='DS_NACIONALIDADE')"
   ]
  },
  {
   "cell_type": "code",
   "execution_count": null,
   "metadata": {
    "colab": {
     "base_uri": "https://localhost:8080/",
     "height": 0
    },
    "id": "evcieRiK8lLa",
    "outputId": "afafd987-e551-4783-8d18-8f43aa9c4c97"
   },
   "outputs": [],
   "source": [
    "px.pie(eleicao3, names='DS_ESTADO_CIVIL')"
   ]
  },
  {
   "cell_type": "code",
   "execution_count": null,
   "metadata": {
    "colab": {
     "base_uri": "https://localhost:8080/",
     "height": 0
    },
    "id": "REG8FEdp8oYw",
    "outputId": "4444f27e-e3ce-4e63-8503-a8edf91dc3c5"
   },
   "outputs": [],
   "source": [
    "px.pie(eleicao3, names='DS_GENERO')"
   ]
  },
  {
   "cell_type": "markdown",
   "metadata": {
    "id": "PNhWJVZ4nt4R"
   },
   "source": [
    "A idade possui valores vazios, vamos analisar esses vazios, e analisar a distribuição de valores em geral:"
   ]
  },
  {
   "cell_type": "code",
   "execution_count": null,
   "metadata": {
    "colab": {
     "base_uri": "https://localhost:8080/"
    },
    "id": "AhpTi-0onMBV",
    "outputId": "21707f94-3be9-402b-9559-12142e9df335"
   },
   "outputs": [],
   "source": [
    "print('Quantos nan temos na coluna idade: ', eleicao3['NR_IDADE_DATA_POSSE'].isnull().sum())\n",
    "\n",
    "media = eleicao3.loc[:,\"NR_IDADE_DATA_POSSE\"].median()\n",
    "\n",
    "print('\\nPor ser poucos NaNs, iremos pegar a média e colocar no lugar: ', media, '\\n')\n",
    "\n",
    "eleicao3['NR_IDADE_DATA_POSSE'] = [media if pd.isna(el) else el for el in eleicao3['NR_IDADE_DATA_POSSE']]\n",
    "\n",
    "eleicao3['NR_IDADE_DATA_POSSE'].describe()"
   ]
  },
  {
   "cell_type": "code",
   "execution_count": null,
   "metadata": {
    "colab": {
     "base_uri": "https://localhost:8080/",
     "height": 0
    },
    "id": "nyXYPfVYxxdm",
    "outputId": "2743a405-ddab-40d1-9725-7981d873d922"
   },
   "outputs": [],
   "source": [
    "eleicao3.hist(column='NR_IDADE_DATA_POSSE', figsize=(9,6), bins=20);     "
   ]
  },
  {
   "cell_type": "code",
   "execution_count": null,
   "metadata": {
    "colab": {
     "base_uri": "https://localhost:8080/",
     "height": 0
    },
    "id": "Hm70v1JxI-94",
    "outputId": "4069740e-0562-47b8-bf08-e4b2ee82f803"
   },
   "outputs": [],
   "source": [
    "proporcaoGenero = eleicao3.groupby([\"DS_SIT_TOT_TURNO\", \"DS_CARGO\", \"DS_GENERO\"]).size().reset_index(name=\"QUANTIDADE\")\n",
    "\n",
    "proporcaoGenero.sort_values(by=['DS_SIT_TOT_TURNO'])"
   ]
  },
  {
   "cell_type": "code",
   "execution_count": null,
   "metadata": {
    "colab": {
     "base_uri": "https://localhost:8080/",
     "height": 0
    },
    "id": "rTDZT4m3A63d",
    "outputId": "842260cf-4d89-4321-a678-31efb949774b"
   },
   "outputs": [],
   "source": [
    "proporcaoGenero = eleicao3.groupby([\"DS_SIT_TOT_TURNO\", \"DS_GENERO\"]).size().reset_index(name=\"QUANTIDADE\")\n",
    "\n",
    "proporcaoGenero.sort_values(by=['DS_SIT_TOT_TURNO'])"
   ]
  },
  {
   "cell_type": "code",
   "execution_count": null,
   "metadata": {
    "colab": {
     "base_uri": "https://localhost:8080/",
     "height": 0
    },
    "id": "CvizBWbr6A4d",
    "outputId": "1337926b-d317-437a-d0ba-bab109a6febd"
   },
   "outputs": [],
   "source": [
    "proporcaoEscolaridade = eleicao3.groupby([\"DS_SIT_TOT_TURNO\",\"DS_GRAU_INSTRUCAO\"]).size().reset_index(name=\"QUANTIDADE\")\n",
    "\n",
    "proporcaoEscolaridade.sort_values(by=['DS_SIT_TOT_TURNO'])"
   ]
  },
  {
   "cell_type": "code",
   "execution_count": null,
   "metadata": {
    "colab": {
     "base_uri": "https://localhost:8080/"
    },
    "id": "1VsCAToW6Azl",
    "outputId": "feb52754-86b0-41a6-85fb-6852e9567c93"
   },
   "outputs": [],
   "source": [
    "nomesSociais = eleicao3['NM_SOCIAL_CANDIDATO'].unique()\n",
    "nomesSociais = nomesSociais.tolist()\n",
    "\n",
    "nomesSociais.remove(\"#NULO#\")\n",
    "nomesSociais.remove(\"NÃO DIVULGÁVEL\")\n",
    "\n",
    "print(\"\\nTotal dos nomes sociais:\", len(nomesSociais))\n",
    "\n",
    "nomesSociais"
   ]
  },
  {
   "cell_type": "code",
   "execution_count": null,
   "metadata": {
    "colab": {
     "base_uri": "https://localhost:8080/",
     "height": 0
    },
    "id": "fgv2TKD16Afo",
    "outputId": "4a6e27dd-2e62-4302-b928-dd4157461f0f"
   },
   "outputs": [],
   "source": [
    "proporcaoRaca = eleicao3.groupby([\"DS_SIT_TOT_TURNO\",\"DS_COR_RACA\"]).size().reset_index(name=\"QUANTIDADE\")\n",
    "\n",
    "proporcaoRaca.sort_values(by=['DS_SIT_TOT_TURNO'])"
   ]
  },
  {
   "cell_type": "markdown",
   "metadata": {
    "id": "r5GFJutrqYdz"
   },
   "source": [
    "**Preparação para NAIVE BAYES e RANDOM FOREST**\n",
    "\n",
    "Construo o dataframe final com o label tratado separado dos atributos escolhidos:"
   ]
  },
  {
   "cell_type": "code",
   "execution_count": null,
   "metadata": {
    "colab": {
     "base_uri": "https://localhost:8080/",
     "height": 206
    },
    "id": "udqbjeqcqsZ1",
    "outputId": "c7a098a2-8fe5-4262-80de-7f69c2a80edd"
   },
   "outputs": [],
   "source": [
    "label = eleicao3['DS_SIT_TOT_TURNO']\n",
    "\n",
    "atributos = pd.DataFrame()\n",
    "atributos['genero'] = eleicao3['DS_GENERO']  \n",
    "atributos['estado_civil'] = eleicao3['DS_ESTADO_CIVIL'] \n",
    "atributos['cor_raca'] = eleicao3['DS_COR_RACA'] \n",
    "atributos['cargo'] = eleicao3['DS_CARGO'] \n",
    "atributos['grau_instrucao'] = eleicao3['DS_GRAU_INSTRUCAO'] \n",
    "\n",
    "atributos.head()"
   ]
  },
  {
   "cell_type": "code",
   "execution_count": null,
   "metadata": {
    "colab": {
     "base_uri": "https://localhost:8080/"
    },
    "id": "HpW2dkp3yEXH",
    "outputId": "1577d97d-a407-4d77-85ea-60848f117f9e"
   },
   "outputs": [],
   "source": [
    "print (\"{0} Registros e {1} colunas\".format(atributos.shape[0], atributos.shape[1]))"
   ]
  },
  {
   "cell_type": "markdown",
   "metadata": {
    "id": "DipPsA_Jvd3G"
   },
   "source": [
    "Eu transponho os atributos (.T) e transformo em dicionário todos os valores (79873). \n",
    "\n",
    "Depois transformo eles em dummies (0 e 1 para cada combinação de valores únicos), pois é a forma que o Naive Bayes aceita de entrada:\n",
    "\n"
   ]
  },
  {
   "cell_type": "code",
   "execution_count": null,
   "metadata": {
    "colab": {
     "base_uri": "https://localhost:8080/"
    },
    "id": "GP7CCYH3wBKy",
    "outputId": "de0fcd02-b09c-49b7-f049-b82fc8e5ed65"
   },
   "outputs": [],
   "source": [
    "dicionarioAtributos = atributos.T.to_dict().values()\n",
    "dicionarioAtributos"
   ]
  },
  {
   "cell_type": "code",
   "execution_count": null,
   "metadata": {
    "colab": {
     "base_uri": "https://localhost:8080/"
    },
    "id": "SV-3eeOk8CIv",
    "outputId": "90d5ed60-e351-4645-ed6e-2baa8e70b637"
   },
   "outputs": [],
   "source": [
    "vect = DictVectorizer(sparse=False) \n",
    "\n",
    "binarizadoAtributos = vect.fit_transform(dicionarioAtributos)\n",
    "\n",
    "print(\"Shape após binarizacao/dummerização: {0}\".format(binarizadoAtributos.shape), '\\n')\n",
    "\n",
    "binarizadoAtributos"
   ]
  },
  {
   "cell_type": "markdown",
   "metadata": {
    "id": "4nW9aUDs8L__"
   },
   "source": [
    "Novas colunas que foram criadas, sendo seus valores agora 0 e 1:"
   ]
  },
  {
   "cell_type": "code",
   "execution_count": null,
   "metadata": {
    "colab": {
     "base_uri": "https://localhost:8080/"
    },
    "id": "bvs0wR9a0Kc_",
    "outputId": "3d804d30-831f-462d-b155-9a2fc0666dd1"
   },
   "outputs": [],
   "source": [
    "vect.feature_names_"
   ]
  },
  {
   "cell_type": "markdown",
   "metadata": {
    "id": "j6LGSrCb8r-h"
   },
   "source": [
    "Binarizo o label também:"
   ]
  },
  {
   "cell_type": "code",
   "execution_count": null,
   "metadata": {
    "colab": {
     "base_uri": "https://localhost:8080/"
    },
    "id": "kDcWBeuf8db8",
    "outputId": "d12b49c0-9c87-4626-f0aa-2f2b23f9ad1c"
   },
   "outputs": [],
   "source": [
    "labelEncoder = LabelEncoder()\n",
    "binarizadoLabel = labelEncoder.fit_transform(label)\n",
    "\n",
    "print(\"Labels: {0}, \\nClasses: {1}\".format(binarizadoLabel, labelEncoder.classes_))"
   ]
  },
  {
   "cell_type": "markdown",
   "metadata": {
    "id": "n5cD7A7BvL4S"
   },
   "source": [
    "Divido a base em treino e teste, sendo 20% teste e 80% treino. \n",
    "\n",
    "O random_state é 0 para sempre começar do mesmo ponto:"
   ]
  },
  {
   "cell_type": "code",
   "execution_count": null,
   "metadata": {
    "colab": {
     "base_uri": "https://localhost:8080/"
    },
    "id": "AZlFNDtouefA",
    "outputId": "4f1b42bb-57cb-48ca-8b16-de2d51968afd"
   },
   "outputs": [],
   "source": [
    "X_train, X_test, Y_train, Y_test = train_test_split(binarizadoAtributos, binarizadoLabel, random_state=0, test_size=0.20)\n",
    "\n",
    "print (\"O shape de cada um é:  {0},  {1},  {2},  {3}\".format(X_train.shape, X_test.shape, Y_train.shape, Y_test.shape))"
   ]
  },
  {
   "cell_type": "markdown",
   "metadata": {
    "id": "suEHf7fdc_MY"
   },
   "source": [
    "**NAIVE BAYES**\n",
    "\n",
    "Treino o Naive Bayes com a base de treino:"
   ]
  },
  {
   "cell_type": "code",
   "execution_count": null,
   "metadata": {
    "id": "YXbws9I3dCwb"
   },
   "outputs": [],
   "source": [
    "naiveBayes = GaussianNB() \n",
    "naiveBayes = naiveBayes.fit(X_train, Y_train)"
   ]
  },
  {
   "cell_type": "markdown",
   "metadata": {
    "id": "7gcTxSvH-Htq"
   },
   "source": [
    "Faço uma previsão com a base de teste:"
   ]
  },
  {
   "cell_type": "code",
   "execution_count": null,
   "metadata": {
    "colab": {
     "base_uri": "https://localhost:8080/"
    },
    "id": "nPcw9a4Q-NLm",
    "outputId": "2bc1ef8d-2b92-41ed-ea39-47f85008b92e"
   },
   "outputs": [],
   "source": [
    "Y_predNaiveBayes = naiveBayes.predict(X_test)\n",
    "Y_predNaiveBayes"
   ]
  },
  {
   "cell_type": "markdown",
   "metadata": {
    "id": "Vkek9F8o-ay9"
   },
   "source": [
    "Comparo o que foi previsto com os labels reais que tenho e vejo quantos erros ele teve na previsão:"
   ]
  },
  {
   "cell_type": "code",
   "execution_count": null,
   "metadata": {
    "colab": {
     "base_uri": "https://localhost:8080/"
    },
    "id": "aRAah9-3-gJZ",
    "outputId": "d9991053-9e2d-43d4-8c5d-0119c9afb001"
   },
   "outputs": [],
   "source": [
    "(Y_test != Y_predNaiveBayes).sum()"
   ]
  },
  {
   "cell_type": "markdown",
   "metadata": {
    "id": "9DqKn1HHAhUD"
   },
   "source": [
    "Analisando a matriz de confusão:"
   ]
  },
  {
   "cell_type": "code",
   "execution_count": null,
   "metadata": {
    "colab": {
     "base_uri": "https://localhost:8080/",
     "height": 143
    },
    "id": "oPBIe8LFAimH",
    "outputId": "99d06bba-b85a-4270-fd8c-5f20dd4b6979"
   },
   "outputs": [],
   "source": [
    "matrizConfusao = confusion_matrix(Y_test, Y_predNaiveBayes)\n",
    "pd.DataFrame(data=matrizConfusao, index=labelEncoder.classes_, columns=[x + \"(prev)\" for x in labelEncoder.classes_])"
   ]
  },
  {
   "cell_type": "markdown",
   "metadata": {
    "id": "vTj7EWlXuqtm"
   },
   "source": [
    "Analisando a acurácia do método:"
   ]
  },
  {
   "cell_type": "code",
   "execution_count": null,
   "metadata": {
    "colab": {
     "base_uri": "https://localhost:8080/"
    },
    "id": "k-WBkjk-udrI",
    "outputId": "e35decb6-ba81-491c-fe7b-425472bd0137"
   },
   "outputs": [],
   "source": [
    "print(\"Acurácia no treino:\", naiveBayes.score(X_train, Y_train))\n",
    "\n",
    "print(\"Acurácia no teste:\", naiveBayes.score(X_test, Y_test))"
   ]
  },
  {
   "cell_type": "markdown",
   "metadata": {
    "id": "TmS_yZaYqfdb"
   },
   "source": [
    "**RANDOM FOREST**\n",
    "\n",
    "Treino com Random Forest e 10 classificadores:\n"
   ]
  },
  {
   "cell_type": "code",
   "execution_count": null,
   "metadata": {
    "colab": {
     "base_uri": "https://localhost:8080/"
    },
    "id": "7nWEGgxcOJ15",
    "outputId": "1fc5350e-b649-45ac-d806-824ce06df928"
   },
   "outputs": [],
   "source": [
    "randomForest = RandomForestClassifier(n_estimators=10, random_state=0)\n",
    "\n",
    "randomForest.fit(X_train, Y_train)"
   ]
  },
  {
   "cell_type": "markdown",
   "metadata": {
    "id": "0H3ZoTL2fGYf"
   },
   "source": [
    "Faço a previsão do Y_pred:"
   ]
  },
  {
   "cell_type": "code",
   "execution_count": null,
   "metadata": {
    "colab": {
     "base_uri": "https://localhost:8080/"
    },
    "id": "16_611ipPe-P",
    "outputId": "a4f36530-d8d7-419a-ca1d-5a19f828d9b3"
   },
   "outputs": [],
   "source": [
    "Y_predRandomForest = randomForest.predict(X_test)\n",
    "\n",
    "Y_predRandomForest"
   ]
  },
  {
   "cell_type": "markdown",
   "metadata": {
    "id": "iK8oeWD-cnMt"
   },
   "source": [
    "Comparo o que foi previsto com os labels reais que tenho, vendo novamente quantos erros tive:"
   ]
  },
  {
   "cell_type": "code",
   "execution_count": null,
   "metadata": {
    "colab": {
     "base_uri": "https://localhost:8080/"
    },
    "id": "udVtSp_IdE-r",
    "outputId": "71651079-c192-487d-f70c-fd6f61319a06"
   },
   "outputs": [],
   "source": [
    "(Y_test != Y_predRandomForest).sum()"
   ]
  },
  {
   "cell_type": "markdown",
   "metadata": {
    "id": "vaOEaorqeltH"
   },
   "source": [
    "Análise da acurácia:"
   ]
  },
  {
   "cell_type": "code",
   "execution_count": null,
   "metadata": {
    "colab": {
     "base_uri": "https://localhost:8080/"
    },
    "id": "FGOayW2relL_",
    "outputId": "fa31c10c-70f7-4724-9a45-cd4d6bdf7a90"
   },
   "outputs": [],
   "source": [
    "print(\"Acurácia no treino:\", randomForest.score(X_train, Y_train))\n",
    "\n",
    "print(\"Acurácia no teste:\", randomForest.score(X_test, Y_test))"
   ]
  },
  {
   "cell_type": "markdown",
   "metadata": {
    "id": "F4-_iPfnez-F"
   },
   "source": [
    "Matriz de confusão para o Random Forest:"
   ]
  },
  {
   "cell_type": "code",
   "execution_count": null,
   "metadata": {
    "colab": {
     "base_uri": "https://localhost:8080/",
     "height": 0
    },
    "id": "Fwfs0z1adEPN",
    "outputId": "f16b7dc3-8925-409a-b7a8-b96200ec6540"
   },
   "outputs": [],
   "source": [
    "matrizConfusao = confusion_matrix(Y_test, Y_predRandomForest)\n",
    "pd.DataFrame(data=matrizConfusao, index=labelEncoder.classes_, columns=[x + \"(prev)\" for x in labelEncoder.classes_])"
   ]
  },
  {
   "cell_type": "markdown",
   "metadata": {
    "id": "liurUeFPn-xV"
   },
   "source": [
    "**NAIVE BAYES e RANDOM FOREST - 2º TESTE**\n",
    "\n",
    "Adicionando 2 atributos novos:\n"
   ]
  },
  {
   "cell_type": "code",
   "execution_count": null,
   "metadata": {
    "colab": {
     "base_uri": "https://localhost:8080/",
     "height": 206
    },
    "id": "_x3Fyn-81BQe",
    "outputId": "499a30d1-211f-4cc5-cf63-7ceb4dbc0e8a"
   },
   "outputs": [],
   "source": [
    "atributos['agremiacao'] = eleicao3['TP_AGREMIACAO']\n",
    "\n",
    "atributos['nacionalidade'] = eleicao3['DS_NACIONALIDADE']\n",
    "\n",
    "atributos.head()"
   ]
  },
  {
   "cell_type": "markdown",
   "metadata": {
    "id": "Wi1blnMf5kyx"
   },
   "source": [
    "Criando funções para não repetir novamente os mesmos códigos:"
   ]
  },
  {
   "cell_type": "code",
   "execution_count": null,
   "metadata": {
    "id": "jO79dcj0zIts"
   },
   "outputs": [],
   "source": [
    "def binarizar(atributos):\n",
    "  dicionarioAtributos = atributos.T.to_dict().values()\n",
    "\n",
    "  vect = DictVectorizer(sparse=False) \n",
    "\n",
    "  binarizadoAtributos = vect.fit_transform(dicionarioAtributos)\n",
    "\n",
    "  return {\n",
    "          'vect': vect, \n",
    "          'binarizacao' : binarizadoAtributos\n",
    "          }\n",
    "\n",
    "\n",
    "def diferenca(Y_test, Y_pred):\n",
    "  return (Y_test != Y_pred).sum()\n",
    "\n",
    "\n",
    "def printAcuracia(treino, teste, diferenca):\n",
    "  print(\"Acurácia no treino {0}, no teste {1}, diferença {2}\\n\".format (treino, teste, diferenca))"
   ]
  },
  {
   "cell_type": "markdown",
   "metadata": {
    "id": "_LtnRxfX5pw2"
   },
   "source": [
    "Nova binarização com mais variaveis:"
   ]
  },
  {
   "cell_type": "code",
   "execution_count": null,
   "metadata": {
    "colab": {
     "base_uri": "https://localhost:8080/"
    },
    "id": "frCyc_-d1OJ6",
    "outputId": "48085fe3-be3c-46c4-c824-4a7c80272a5e"
   },
   "outputs": [],
   "source": [
    "resultado = binarizar(atributos)\n",
    "\n",
    "resultado['vect'].feature_names_"
   ]
  },
  {
   "cell_type": "code",
   "execution_count": null,
   "metadata": {
    "id": "eCmocqbV0twy"
   },
   "outputs": [],
   "source": [
    "def treinarPreverMedir(binarizacao, binarizadoLabel, estimatores = 10, test_size=0.30):\n",
    "  \n",
    "  X_train, X_test, Y_train, Y_test = train_test_split(binarizacao, binarizadoLabel, random_state=0, test_size=test_size)\n",
    "\n",
    "  #Naive Bayes\n",
    "  naiveBayes = GaussianNB() \n",
    "  naiveBayes = naiveBayes.fit(X_train, Y_train)\n",
    "\n",
    "  Y_predNaiveBayes = naiveBayes.predict(X_test)\n",
    "\n",
    "  #Random Forest\n",
    "  randomForest = RandomForestClassifier(estimatores, random_state=0)\n",
    "\n",
    "  randomForest.fit(X_train, Y_train)\n",
    "\n",
    "  Y_predRandomForest = randomForest.predict(X_test)\n",
    "\n",
    "  #Análises\n",
    "  printAcuracia(naiveBayes.score(X_train, Y_train), naiveBayes.score(X_test, Y_test), diferenca(Y_test, Y_predNaiveBayes))\n",
    "\n",
    "  printAcuracia(randomForest.score(X_train, Y_train), randomForest.score(X_test, Y_test), diferenca(Y_test, Y_predRandomForest))"
   ]
  },
  {
   "cell_type": "code",
   "execution_count": null,
   "metadata": {
    "colab": {
     "base_uri": "https://localhost:8080/"
    },
    "id": "HGXFfvdLBrnT",
    "outputId": "68035f39-aa4d-43c0-c916-24c57d9af909"
   },
   "outputs": [],
   "source": [
    "treinarPreverMedir(resultado['binarizacao'], binarizadoLabel)"
   ]
  },
  {
   "cell_type": "markdown",
   "metadata": {
    "id": "D_fnCrSrAzje"
   },
   "source": [
    "Misturando aleatoriamente os registros do dataframe:"
   ]
  },
  {
   "cell_type": "code",
   "execution_count": null,
   "metadata": {
    "colab": {
     "base_uri": "https://localhost:8080/",
     "height": 206
    },
    "id": "3zLuli_DAwBF",
    "outputId": "3bff7ea1-3737-4e21-d4aa-fd4c1cf8ef5e"
   },
   "outputs": [],
   "source": [
    "atributos1 = atributos.sample(frac=1)\n",
    "atributos1.head()"
   ]
  },
  {
   "cell_type": "markdown",
   "metadata": {
    "id": "mTop7q2BC-Ma"
   },
   "source": [
    "Prevendo com a mistura da base:"
   ]
  },
  {
   "cell_type": "code",
   "execution_count": null,
   "metadata": {
    "colab": {
     "base_uri": "https://localhost:8080/"
    },
    "id": "32NiBiUoCAGC",
    "outputId": "9dafab26-8784-407d-9a20-00efc1356320"
   },
   "outputs": [],
   "source": [
    "resultado = binarizar(atributos1)\n",
    "\n",
    "treinarPreverMedir(resultado['binarizacao'], binarizadoLabel)"
   ]
  }
 ],
 "metadata": {
  "colab": {
   "collapsed_sections": [
    "jAtGmFx625rL",
    "harvsOrNhejh",
    "DyBE6_u7SEwG",
    "VCDsNHW-ObdW",
    "9avf1Oj3PHsj"
   ],
   "name": "Trabalho Prático Final - VERSAO FINAL.ipynb",
   "provenance": []
  },
  "kernelspec": {
   "display_name": "Python 2",
   "language": "python",
   "name": "python2"
  },
  "language_info": {
   "codemirror_mode": {
    "name": "ipython",
    "version": 2
   },
   "file_extension": ".py",
   "mimetype": "text/x-python",
   "name": "python",
   "nbconvert_exporter": "python",
   "pygments_lexer": "ipython2",
   "version": "2.7.14"
  }
 },
 "nbformat": 4,
 "nbformat_minor": 1
}
